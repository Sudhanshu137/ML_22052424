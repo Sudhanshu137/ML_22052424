{
 "cells": [
  {
   "cell_type": "code",
   "execution_count": 2,
   "id": "637760f9-013d-414d-893e-b944312fb3bc",
   "metadata": {},
   "outputs": [],
   "source": [
    "import numpy as np"
   ]
  },
  {
   "cell_type": "code",
   "execution_count": 3,
   "id": "2bf52c94-1d62-446e-a189-af6fe586cec3",
   "metadata": {},
   "outputs": [],
   "source": [
    "x=np.array([[1,1,1], [1,2,3]])  \n",
    "y = np.array([2,4,6])"
   ]
  },
  {
   "cell_type": "code",
   "execution_count": 4,
   "id": "75ccb68e-307f-4818-b797-b057d2f0ce9f",
   "metadata": {},
   "outputs": [],
   "source": [
    "def updation(w,x,y):\n",
    "    return 2*(x @ x.T) @ w - 2 * x @ np.expand_dims(y,axis=1)"
   ]
  },
  {
   "cell_type": "code",
   "execution_count": 5,
   "id": "f1c581d8-e53f-4e8c-9aa2-749a9f7b7da1",
   "metadata": {},
   "outputs": [
    {
     "name": "stdout",
     "output_type": "stream",
     "text": [
      "[[0.06468308]\n",
      " [1.9715458 ]]\n"
     ]
    }
   ],
   "source": [
    "w_updated,w_ini = np.zeros((2,1)) , np.zeros((2,1))\n",
    "\n",
    "for i in range(100):\n",
    "    print(w_ini)\n",
    "    w_updated = w_ini - (0.1 / 3) * (updation(w_ini,x,y))\n",
    "    w_ini = w_updated\n",
    "\n",
    "print(w_updated)"
   ]
  },
  {
   "cell_type": "code",
   "execution_count": 6,
   "id": "bb67bd3a-ab82-4d0d-913f-2917ccc88775",
   "metadata": {},
   "outputs": [
    {
     "data": {
      "text/plain": [
       "array([29.63787011])"
      ]
     },
     "execution_count": 6,
     "metadata": {},
     "output_type": "execute_result"
    }
   ],
   "source": [
    "x = np.array([1,15])\n",
    "x.T @ w_updated"
   ]
  },
  {
   "cell_type": "code",
   "execution_count": null,
   "id": "c466b2bc-b237-478d-b6ef-af223692a72f",
   "metadata": {},
   "outputs": [],
   "source": []
  },
  {
   "cell_type": "code",
   "execution_count": null,
   "id": "8dcbcb75-7e36-4158-8d1a-bcc2ea5e0f1a",
   "metadata": {},
   "outputs": [],
   "source": []
  },
  {
   "cell_type": "code",
   "execution_count": null,
   "id": "09dd530d-485e-4937-9e8c-4dba2b57f10c",
   "metadata": {},
   "outputs": [],
   "source": []
  }
 ],
 "metadata": {
  "kernelspec": {
   "display_name": "Python 3",
   "language": "python",
   "name": "python3"
  },
  "language_info": {
   "codemirror_mode": {
    "name": "ipython",
    "version": 3
   },
   "file_extension": ".py",
   "mimetype": "text/x-python",
   "name": "python",
   "nbconvert_exporter": "python",
   "pygments_lexer": "ipython3",
   "version": "3.11.4"
  }
 },
 "nbformat": 4,
 "nbformat_minor": 5
}
