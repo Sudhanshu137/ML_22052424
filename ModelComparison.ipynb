{
 "cells": [
  {
   "cell_type": "code",
   "execution_count": 1,
   "id": "bf240dd1-8f18-4187-b912-d30787cd5c1c",
   "metadata": {},
   "outputs": [],
   "source": [
    "import pandas as pd\n",
    "import numpy as np\n",
    "import matplotlib.pyplot as plt\n",
    "from sklearn import linear_model\n",
    "from sklearn.metrics import accuracy_score,r2_score,f1_score"
   ]
  },
  {
   "cell_type": "code",
   "execution_count": 2,
   "id": "7511f6f3-a8e6-455b-abaa-3ba065e927be",
   "metadata": {},
   "outputs": [],
   "source": [
    "data = pd.read_csv(\"insurance.csv\")"
   ]
  },
  {
   "cell_type": "code",
   "execution_count": 3,
   "id": "3b846014-17ed-45e2-90dd-c29a504342de",
   "metadata": {},
   "outputs": [
    {
     "data": {
      "text/plain": [
       "Index(['age', 'sex', 'bmi', 'children', 'smoker', 'region', 'charges'], dtype='object')"
      ]
     },
     "execution_count": 3,
     "metadata": {},
     "output_type": "execute_result"
    }
   ],
   "source": [
    "data.columns"
   ]
  },
  {
   "cell_type": "code",
   "execution_count": 4,
   "id": "a7a7bc2d-18a5-4b02-bfe6-e2bc62a2dabf",
   "metadata": {},
   "outputs": [],
   "source": [
    "data = pd.get_dummies(data,columns = ['sex','smoker','region'], drop_first =True)"
   ]
  },
  {
   "cell_type": "code",
   "execution_count": 5,
   "id": "72fc1444-083b-4d96-bf73-ee4c356b4fcf",
   "metadata": {},
   "outputs": [
    {
     "name": "stdout",
     "output_type": "stream",
     "text": [
      "   age     bmi  children      charges  sex_male  smoker_yes  region_northwest  \\\n",
      "0   19  27.900         0  16884.92400     False        True             False   \n",
      "1   18  33.770         1   1725.55230      True       False             False   \n",
      "2   28  33.000         3   4449.46200      True       False             False   \n",
      "3   33  22.705         0  21984.47061      True       False              True   \n",
      "4   32  28.880         0   3866.85520      True       False              True   \n",
      "\n",
      "   region_southeast  region_southwest  \n",
      "0             False              True  \n",
      "1              True             False  \n",
      "2              True             False  \n",
      "3             False             False  \n",
      "4             False             False  \n"
     ]
    }
   ],
   "source": [
    "print(data.head())"
   ]
  },
  {
   "cell_type": "code",
   "execution_count": 6,
   "id": "7360aa81-beb9-48d8-9f35-53648f08ad63",
   "metadata": {},
   "outputs": [],
   "source": [
    "from sklearn.model_selection import train_test_split"
   ]
  },
  {
   "cell_type": "code",
   "execution_count": 7,
   "id": "fac64891-b2cb-4631-8c27-fb97cfdfa5b1",
   "metadata": {},
   "outputs": [],
   "source": [
    "X= data.drop('charges',axis = 1)\n",
    "y = data['charges']"
   ]
  },
  {
   "cell_type": "code",
   "execution_count": 8,
   "id": "cdee3581-b23c-457a-b34e-ef1af1bd10cd",
   "metadata": {},
   "outputs": [],
   "source": [
    "X_train,X_test,y_train,y_test = train_test_split(X,y,test_size = 0.2,random_state = 42 )"
   ]
  },
  {
   "cell_type": "code",
   "execution_count": 9,
   "id": "a80681db-9bc3-4bc7-a44c-14790c84405d",
   "metadata": {},
   "outputs": [],
   "source": [
    "from sklearn.linear_model import LinearRegression\n",
    "from sklearn.metrics import mean_squared_error,r2_score"
   ]
  },
  {
   "cell_type": "code",
   "execution_count": 10,
   "id": "9dd7d51c-efec-4e7d-a472-c794ed578c3c",
   "metadata": {},
   "outputs": [],
   "source": [
    "lr = LinearRegression()\n",
    "lr.fit(X_train,y_train)\n",
    "y_pred_lr = lr.predict(X_test)"
   ]
  },
  {
   "cell_type": "code",
   "execution_count": 11,
   "id": "079a0b5a-c0e9-4a05-a4db-4a4b14a50786",
   "metadata": {},
   "outputs": [
    {
     "data": {
      "text/plain": [
       "0.7835929767120724"
      ]
     },
     "execution_count": 11,
     "metadata": {},
     "output_type": "execute_result"
    }
   ],
   "source": [
    "r2_score(y_test,y_pred_lr)"
   ]
  },
  {
   "cell_type": "code",
   "execution_count": 12,
   "id": "ace14818-bf50-4cb7-bd4a-08d32d481154",
   "metadata": {},
   "outputs": [
    {
     "data": {
      "text/plain": [
       "np.float64(5796.284659276273)"
      ]
     },
     "execution_count": 12,
     "metadata": {},
     "output_type": "execute_result"
    }
   ],
   "source": [
    "np.sqrt(mean_squared_error(y_test,y_pred_lr))"
   ]
  },
  {
   "cell_type": "code",
   "execution_count": 13,
   "id": "ee95bfe3-3f60-40c3-b833-5ad3415e3719",
   "metadata": {},
   "outputs": [],
   "source": [
    "##Decision Tree"
   ]
  },
  {
   "cell_type": "code",
   "execution_count": 14,
   "id": "2a96c4b6-7c42-4767-92dc-cb66652cae19",
   "metadata": {},
   "outputs": [],
   "source": [
    "from sklearn.tree import DecisionTreeRegressor"
   ]
  },
  {
   "cell_type": "raw",
   "id": "20df6235-b480-4018-9a07-929529e4df80",
   "metadata": {},
   "source": [
    "##Classifaction Models "
   ]
  },
  {
   "cell_type": "code",
   "execution_count": 15,
   "id": "b809c900-f8e2-4eef-aa4b-dc3c602f4446",
   "metadata": {},
   "outputs": [],
   "source": [
    "data1 = pd.read_csv(\"diabetes.csv\")"
   ]
  },
  {
   "cell_type": "code",
   "execution_count": 16,
   "id": "eb2e622e-7ac7-44a7-a2ef-3143dcaa452b",
   "metadata": {},
   "outputs": [
    {
     "data": {
      "text/html": [
       "<div>\n",
       "<style scoped>\n",
       "    .dataframe tbody tr th:only-of-type {\n",
       "        vertical-align: middle;\n",
       "    }\n",
       "\n",
       "    .dataframe tbody tr th {\n",
       "        vertical-align: top;\n",
       "    }\n",
       "\n",
       "    .dataframe thead th {\n",
       "        text-align: right;\n",
       "    }\n",
       "</style>\n",
       "<table border=\"1\" class=\"dataframe\">\n",
       "  <thead>\n",
       "    <tr style=\"text-align: right;\">\n",
       "      <th></th>\n",
       "      <th>Pregnancies</th>\n",
       "      <th>Glucose</th>\n",
       "      <th>BloodPressure</th>\n",
       "      <th>SkinThickness</th>\n",
       "      <th>Insulin</th>\n",
       "      <th>BMI</th>\n",
       "      <th>DiabetesPedigreeFunction</th>\n",
       "      <th>Age</th>\n",
       "      <th>Outcome</th>\n",
       "    </tr>\n",
       "  </thead>\n",
       "  <tbody>\n",
       "    <tr>\n",
       "      <th>0</th>\n",
       "      <td>6</td>\n",
       "      <td>148</td>\n",
       "      <td>72</td>\n",
       "      <td>35</td>\n",
       "      <td>0</td>\n",
       "      <td>33.6</td>\n",
       "      <td>0.627</td>\n",
       "      <td>50</td>\n",
       "      <td>1</td>\n",
       "    </tr>\n",
       "    <tr>\n",
       "      <th>1</th>\n",
       "      <td>1</td>\n",
       "      <td>85</td>\n",
       "      <td>66</td>\n",
       "      <td>29</td>\n",
       "      <td>0</td>\n",
       "      <td>26.6</td>\n",
       "      <td>0.351</td>\n",
       "      <td>31</td>\n",
       "      <td>0</td>\n",
       "    </tr>\n",
       "    <tr>\n",
       "      <th>2</th>\n",
       "      <td>8</td>\n",
       "      <td>183</td>\n",
       "      <td>64</td>\n",
       "      <td>0</td>\n",
       "      <td>0</td>\n",
       "      <td>23.3</td>\n",
       "      <td>0.672</td>\n",
       "      <td>32</td>\n",
       "      <td>1</td>\n",
       "    </tr>\n",
       "    <tr>\n",
       "      <th>3</th>\n",
       "      <td>1</td>\n",
       "      <td>89</td>\n",
       "      <td>66</td>\n",
       "      <td>23</td>\n",
       "      <td>94</td>\n",
       "      <td>28.1</td>\n",
       "      <td>0.167</td>\n",
       "      <td>21</td>\n",
       "      <td>0</td>\n",
       "    </tr>\n",
       "    <tr>\n",
       "      <th>4</th>\n",
       "      <td>0</td>\n",
       "      <td>137</td>\n",
       "      <td>40</td>\n",
       "      <td>35</td>\n",
       "      <td>168</td>\n",
       "      <td>43.1</td>\n",
       "      <td>2.288</td>\n",
       "      <td>33</td>\n",
       "      <td>1</td>\n",
       "    </tr>\n",
       "  </tbody>\n",
       "</table>\n",
       "</div>"
      ],
      "text/plain": [
       "   Pregnancies  Glucose  BloodPressure  SkinThickness  Insulin   BMI  \\\n",
       "0            6      148             72             35        0  33.6   \n",
       "1            1       85             66             29        0  26.6   \n",
       "2            8      183             64              0        0  23.3   \n",
       "3            1       89             66             23       94  28.1   \n",
       "4            0      137             40             35      168  43.1   \n",
       "\n",
       "   DiabetesPedigreeFunction  Age  Outcome  \n",
       "0                     0.627   50        1  \n",
       "1                     0.351   31        0  \n",
       "2                     0.672   32        1  \n",
       "3                     0.167   21        0  \n",
       "4                     2.288   33        1  "
      ]
     },
     "execution_count": 16,
     "metadata": {},
     "output_type": "execute_result"
    }
   ],
   "source": [
    "data1.head()"
   ]
  },
  {
   "cell_type": "code",
   "execution_count": 17,
   "id": "2e79a769-6a3d-41a5-8193-172e714b94a6",
   "metadata": {},
   "outputs": [],
   "source": [
    "X1= data1.drop('Outcome',axis = 1)\n",
    "y1 = data1['Outcome']"
   ]
  },
  {
   "cell_type": "code",
   "execution_count": 18,
   "id": "01304bf1-29b7-41e3-b4af-20089609e437",
   "metadata": {},
   "outputs": [],
   "source": [
    "from sklearn.preprocessing import StandardScaler"
   ]
  },
  {
   "cell_type": "code",
   "execution_count": 19,
   "id": "e760446c-98d2-46f0-aebd-68c9431f28c2",
   "metadata": {},
   "outputs": [],
   "source": [
    "scaler = StandardScaler()\n",
    "X_scaled  = scaler.fit_transform(X1)"
   ]
  },
  {
   "cell_type": "code",
   "execution_count": 20,
   "id": "f7404247-e831-4222-83a7-6c98f14fb88f",
   "metadata": {},
   "outputs": [],
   "source": [
    "from sklearn.neighbors import KNeighborsClassifier"
   ]
  },
  {
   "cell_type": "code",
   "execution_count": 21,
   "id": "cba4d19e-7954-42a0-a70c-375d2e63512b",
   "metadata": {},
   "outputs": [],
   "source": [
    "X1_train,X1_test,y1_train,y1_test = train_test_split(X_scaled,y1,test_size = 0.2,random_state = 42,stratify=y1)\n"
   ]
  },
  {
   "cell_type": "code",
   "execution_count": 22,
   "id": "d108ea8f-f3e1-4618-a5e4-64efa55f42f0",
   "metadata": {},
   "outputs": [],
   "source": [
    "knn = KNeighborsClassifier(n_neighbors = 5) ## value of k is 5 means it will check 5 nearest neighbor\n",
    "knn.fit(X1_train,y1_train)\n",
    "y1_pred_knn = knn.predict(X1_test)"
   ]
  },
  {
   "cell_type": "code",
   "execution_count": 23,
   "id": "4db83da3-1eba-4546-83fa-f22b9cac320d",
   "metadata": {},
   "outputs": [
    {
     "data": {
      "text/plain": [
       "0.7077922077922078"
      ]
     },
     "execution_count": 23,
     "metadata": {},
     "output_type": "execute_result"
    }
   ],
   "source": [
    "accuracy_score(y1_test,y1_pred_knn)"
   ]
  },
  {
   "cell_type": "code",
   "execution_count": 24,
   "id": "f0bd6f4e-6afa-4792-a30b-61d12bd39051",
   "metadata": {},
   "outputs": [],
   "source": [
    "from sklearn.metrics import classification_report"
   ]
  },
  {
   "cell_type": "code",
   "execution_count": 25,
   "id": "012a7945-49dc-4307-b6d3-674aa19e4c1d",
   "metadata": {},
   "outputs": [
    {
     "name": "stdout",
     "output_type": "stream",
     "text": [
      "{'0': {'precision': 0.7619047619047619, 'recall': 0.8, 'f1-score': 0.7804878048780488, 'support': 100.0}, '1': {'precision': 0.5918367346938775, 'recall': 0.5370370370370371, 'f1-score': 0.5631067961165048, 'support': 54.0}, 'accuracy': 0.7077922077922078, 'macro avg': {'precision': 0.6768707482993197, 'recall': 0.6685185185185185, 'f1-score': 0.6717973004972768, 'support': 154.0}, 'weighted avg': {'precision': 0.7022705185970491, 'recall': 0.7077922077922078, 'f1-score': 0.7042632953123126, 'support': 154.0}}\n"
     ]
    }
   ],
   "source": [
    "report_knn = classification_report(y1_test,y1_pred_knn,output_dict = True)\n",
    "print(report_knn)"
   ]
  },
  {
   "cell_type": "code",
   "execution_count": 26,
   "id": "3040858d-c800-4877-9389-2fc82c3e15bf",
   "metadata": {},
   "outputs": [],
   "source": [
    "# Decision tree"
   ]
  },
  {
   "cell_type": "code",
   "execution_count": 27,
   "id": "706c6e6c-c7ea-4cb7-9be8-340acb040ece",
   "metadata": {},
   "outputs": [
    {
     "name": "stdout",
     "output_type": "stream",
     "text": [
      "Decision Tree:\n",
      "Accuracy: 0.7207792207792207\n",
      "{'0': {'precision': 0.7522123893805309, 'recall': 0.85, 'f1-score': 0.7981220657276995, 'support': 100.0}, '1': {'precision': 0.6341463414634146, 'recall': 0.48148148148148145, 'f1-score': 0.5473684210526316, 'support': 54.0}, 'accuracy': 0.7207792207792207, 'macro avg': {'precision': 0.6931793654219728, 'recall': 0.6657407407407407, 'f1-score': 0.6727452433901655, 'support': 154.0}, 'weighted avg': {'precision': 0.710812606344659, 'recall': 0.7207792207792207, 'f1-score': 0.710195463049429, 'support': 154.0}}\n"
     ]
    }
   ],
   "source": [
    "from sklearn.tree import DecisionTreeClassifier\n",
    "from sklearn.metrics import accuracy_score, classification_report\n",
    "\n",
    "dt = DecisionTreeClassifier(random_state=42)\n",
    "dt.fit(X1_train, y1_train)\n",
    "\n",
    "y1_pred_dt = dt.predict(X1_test)\n",
    "\n",
    "\n",
    "print(\"Decision Tree:\")\n",
    "print(\"Accuracy:\", accuracy_score(y1_test, y1_pred_dt))\n",
    "report_dt = classification_report(y1_test, y1_pred_dt,output_dict = True)\n",
    "print(report_dt)"
   ]
  },
  {
   "cell_type": "code",
   "execution_count": 28,
   "id": "705607d6-dddb-4049-9336-72b08d8a2cd9",
   "metadata": {},
   "outputs": [],
   "source": [
    "## Naive Bayes"
   ]
  },
  {
   "cell_type": "code",
   "execution_count": 29,
   "id": "4c526fb9-e1c2-4d75-acf5-bc362b55517d",
   "metadata": {},
   "outputs": [
    {
     "name": "stdout",
     "output_type": "stream",
     "text": [
      "Naive Bayes:\n",
      "Accuracy: 0.7077922077922078\n",
      "{'0': {'precision': 0.7956989247311828, 'recall': 0.74, 'f1-score': 0.7668393782383419, 'support': 100.0}, '1': {'precision': 0.5737704918032787, 'recall': 0.6481481481481481, 'f1-score': 0.6086956521739131, 'support': 54.0}, 'accuracy': 0.7077922077922078, 'macro avg': {'precision': 0.6847347082672307, 'recall': 0.6940740740740741, 'f1-score': 0.6877675152061276, 'support': 154.0}, 'weighted avg': {'precision': 0.7178798638343852, 'recall': 0.7077922077922078, 'f1-score': 0.7113863833845812, 'support': 154.0}}\n"
     ]
    }
   ],
   "source": [
    "from sklearn.naive_bayes import GaussianNB\n",
    "\n",
    "# Train the model\n",
    "nb = GaussianNB()\n",
    "nb.fit(X1_train, y1_train)\n",
    "\n",
    "# Predict\n",
    "y1_pred_nb = nb.predict(X1_test)\n",
    "\n",
    "# Evaluate\n",
    "print(\"Naive Bayes:\")\n",
    "print(\"Accuracy:\", accuracy_score(y1_test, y1_pred_nb))\n",
    "report_nb = classification_report(y1_test, y1_pred_nb,output_dict = True)\n",
    "print(report_nb)"
   ]
  },
  {
   "cell_type": "code",
   "execution_count": 30,
   "id": "c9b15c6d-7689-4f6a-83bb-3927bff7326f",
   "metadata": {},
   "outputs": [],
   "source": [
    "#comparison"
   ]
  },
  {
   "cell_type": "code",
   "execution_count": 31,
   "id": "4261079f-a7c8-457e-b84d-4c982eb05f9a",
   "metadata": {},
   "outputs": [
    {
     "name": "stdout",
     "output_type": "stream",
     "text": [
      "Decision Tree -> Accuracy: 0.721\n",
      "KNN -> Accuracy: 0.708\n",
      "Naive Bayes -> Accuracy: 0.708\n"
     ]
    }
   ],
   "source": [
    "models = ['Decision Tree', 'KNN', 'Naive Bayes']\n",
    "accuracies = [\n",
    "    accuracy_score(y1_test, y1_pred_dt),\n",
    "    accuracy_score(y1_test, y1_pred_knn),\n",
    "    accuracy_score(y1_test, y1_pred_nb)\n",
    "]\n",
    "\n",
    "# Print comparison\n",
    "for i in range(len(models)):\n",
    "    print(f\"{models[i]} -> Accuracy: {accuracies[i]:.3f}\")"
   ]
  },
  {
   "cell_type": "code",
   "execution_count": 32,
   "id": "8bc62efa-6d91-4683-904c-37bdf9bf655e",
   "metadata": {},
   "outputs": [
    {
     "data": {
      "image/png": "[encoded data removed]",
      "text/plain": [
       "<Figure size 640x480 with 1 Axes>"
      ]
     },
     "metadata": {},
     "output_type": "display_data"
    }
   ],
   "source": [
    "import matplotlib.pyplot as plt\n",
    "\n",
    "# Bar chart for accuracy comparison\n",
    "plt.bar(models, accuracies, color=['blue', 'orange', 'green'])\n",
    "plt.title('Model Comparison - Accuracy')\n",
    "plt.xlabel('Models')\n",
    "plt.ylabel('Accuracy')\n",
    "plt.ylim(0.5, 1)\n",
    "plt.show()"
   ]
  },
  {
   "cell_type": "code",
   "execution_count": 33,
   "id": "aac7bd0d-f97d-4afe-a7af-b0eae422ea9d",
   "metadata": {},
   "outputs": [],
   "source": [
    "metrics = {\n",
    "    \"Model\": [\"Decision Tree\", \"KNN\", \"Naive Bayes\"],\n",
    "    \"Precision\": [report_dt['weighted avg']['precision'], report_knn['weighted avg']['precision'], report_nb['weighted avg']['precision']],\n",
    "    \"Recall\": [report_dt['weighted avg']['recall'], report_knn['weighted avg']['recall'], report_nb['weighted avg']['recall']],\n",
    "    \"F1-Score\": [report_dt['weighted avg']['f1-score'], report_knn['weighted avg']['f1-score'], report_nb['weighted avg']['f1-score']],\n",
    "}"
   ]
  },
  {
   "cell_type": "code",
   "execution_count": 34,
   "id": "bfa8d980-6a70-4f2a-979a-b16b9721df76",
   "metadata": {},
   "outputs": [
    {
     "name": "stdout",
     "output_type": "stream",
     "text": [
      "           Model  Precision    Recall  F1-Score\n",
      "0  Decision Tree   0.710813  0.720779  0.710195\n",
      "1            KNN   0.702271  0.707792  0.704263\n",
      "2    Naive Bayes   0.717880  0.707792  0.711386\n"
     ]
    }
   ],
   "source": [
    "metrics_df = pd.DataFrame(metrics)\n",
    "print(metrics_df)"
   ]
  },
  {
   "cell_type": "code",
   "execution_count": 36,
   "id": "7dcde454-a4eb-482b-93f9-655edc730a47",
   "metadata": {},
   "outputs": [
    {
     "data": {
      "image/png": "[encoded data removed]",
      "text/plain": [
       "<Figure size 1000x600 with 1 Axes>"
      ]
     },
     "metadata": {},
     "output_type": "display_data"
    }
   ],
   "source": [
    "plt.figure(figsize =(10,6))\n",
    "metrics = [\"Precision\", \"Recall\", \"F1-Score\"]\n",
    "x = np.arange(len(metrics)) ## [0,1,2]\n",
    "bar_width = 0.25\n",
    "plt.bar(x - bar_width, metrics_df.loc[0, metrics], width=bar_width, label=\"Decision Tree\", color=\"blue\")\n",
    "plt.bar(x, metrics_df.loc[1, metrics], width=bar_width, label=\"KNN\", color=\"orange\")\n",
    "plt.bar(x + bar_width, metrics_df.loc[2, metrics], width=bar_width, label=\"Naive Bayes\", color=\"green\")\n",
    "\n",
    "# Customize chart\n",
    "plt.title(\"Classification Model Comparison (Precision, Recall, F1-Score)\")\n",
    "plt.xlabel(\"Metrics\")\n",
    "plt.ylabel(\"Scores\")\n",
    "plt.xticks(x, metrics)\n",
    "plt.ylim(0, 1)  # Scores range from 0 to 1\n",
    "plt.legend()\n",
    "\n",
    "# Show the plot\n",
    "plt.show()"
   ]
  },
  {
   "cell_type": "code",
   "execution_count": null,
   "id": "0a858327-8504-4bcb-aad7-2f920c3facc9",
   "metadata": {},
   "outputs": [],
   "source": []
  }
 ],
 "metadata": {
  "kernelspec": {
   "display_name": "Python 3 (ipykernel)",
   "language": "python",
   "name": "python3"
  },
  "language_info": {
   "codemirror_mode": {
    "name": "ipython",
    "version": 3
   },
   "file_extension": ".py",
   "mimetype": "text/x-python",
   "name": "python",
   "nbconvert_exporter": "python",
   "pygments_lexer": "ipython3",
   "version": "3.11.1"
  }
 },
 "nbformat": 4,
 "nbformat_minor": 5
}
