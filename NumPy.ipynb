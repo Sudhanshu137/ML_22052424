{
 "cells": [
  {
   "cell_type": "code",
   "execution_count": 1,
   "id": "f7d306bd-f3a5-41aa-861a-0c9b49c7ece8",
   "metadata": {},
   "outputs": [],
   "source": [
    "import numpy as np"
   ]
  },
  {
   "cell_type": "code",
   "execution_count": 2,
   "id": "93c77f5f-0397-4e8f-b4b1-3204d52cc7dd",
   "metadata": {},
   "outputs": [
    {
     "name": "stdout",
     "output_type": "stream",
     "text": [
      "[1 2 3 4]\n"
     ]
    }
   ],
   "source": [
    "arr_id = np.array([1,2,3,4])\n",
    "print(arr_id)"
   ]
  },
  {
   "cell_type": "code",
   "execution_count": 3,
   "id": "0e1d15c9-1e26-4bb2-a652-d4dbb1e01d63",
   "metadata": {},
   "outputs": [
    {
     "data": {
      "text/plain": [
       "numpy.ndarray"
      ]
     },
     "execution_count": 3,
     "metadata": {},
     "output_type": "execute_result"
    }
   ],
   "source": [
    "type(arr_id)"
   ]
  },
  {
   "cell_type": "code",
   "execution_count": 4,
   "id": "d6b51019-26b3-42de-97cb-ea34308977f3",
   "metadata": {},
   "outputs": [
    {
     "data": {
      "text/plain": [
       "1"
      ]
     },
     "execution_count": 4,
     "metadata": {},
     "output_type": "execute_result"
    }
   ],
   "source": [
    "arr_id.ndim"
   ]
  },
  {
   "cell_type": "code",
   "execution_count": 5,
   "id": "01f575f8-cd86-4448-be42-c828c8c2bc0c",
   "metadata": {
    "scrolled": true
   },
   "outputs": [
    {
     "name": "stdout",
     "output_type": "stream",
     "text": [
      "[[1 2 3 4]\n",
      " [5 6 7 8]]\n"
     ]
    }
   ],
   "source": [
    "arr_2d = np.array([[1,2,3,4],[5,6,7,8]])\n",
    "print(arr_2d)"
   ]
  },
  {
   "cell_type": "code",
   "execution_count": 6,
   "id": "c9036848-38e1-4154-b568-fede477bd28e",
   "metadata": {},
   "outputs": [
    {
     "data": {
      "text/plain": [
       "2"
      ]
     },
     "execution_count": 6,
     "metadata": {},
     "output_type": "execute_result"
    }
   ],
   "source": [
    "arr_2d.ndim"
   ]
  },
  {
   "cell_type": "code",
   "execution_count": 7,
   "id": "d59f2aa9-0ea5-4eaf-95ac-346c75e66d37",
   "metadata": {},
   "outputs": [
    {
     "data": {
      "text/plain": [
       "8"
      ]
     },
     "execution_count": 7,
     "metadata": {},
     "output_type": "execute_result"
    }
   ],
   "source": [
    "arr_2d.size"
   ]
  }
 ],
 "metadata": {
  "kernelspec": {
   "display_name": "Python 3 (ipykernel)",
   "language": "python",
   "name": "python3"
  },
  "language_info": {
   "codemirror_mode": {
    "name": "ipython",
    "version": 3
   },
   "file_extension": ".py",
   "mimetype": "text/x-python",
   "name": "python",
   "nbconvert_exporter": "python",
   "pygments_lexer": "ipython3",
   "version": "3.11.1"
  }
 },
 "nbformat": 4,
 "nbformat_minor": 5
}
