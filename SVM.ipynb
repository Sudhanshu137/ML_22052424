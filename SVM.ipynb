{
 "cells": [
  {
   "cell_type": "code",
   "execution_count": null,
   "id": "dcd0e915-31a9-4ca4-b11b-d9181a6e555c",
   "metadata": {},
   "outputs": [],
   "source": [
    "import numpy as np\n",
    "import matplotlib.pyplot as plt\n",
    "from sklearn.svm import SVC"
   ]
  },
  {
   "cell_type": "code",
   "execution_count": null,
   "id": "c0f8e2b4-8f19-4abe-be9e-aacfab5c5232",
   "metadata": {},
   "outputs": [],
   "source": [
    "# Sample dataset (2 classes: -1 and 1)\n",
    "X = np.array([[1, 2], [2, 3], [3, 3], [4, 5], [5, 6], [6, 7]])  # Features\n",
    "y = np.array([-1, -1, -1, 1, 1, 1])  # Class labels"
   ]
  },
  {
   "cell_type": "code",
   "execution_count": null,
   "id": "3144606b-57a2-455d-8ba4-810171d4adbc",
   "metadata": {},
   "outputs": [],
   "source": [
    "# Manually defining the hyperplane parameters\n",
    "w = np.array([1, -1])  # Normal vector to the hyperplane\n",
    "b = -2 # Bias term"
   ]
  },
  {
   "cell_type": "code",
   "execution_count": null,
   "id": "2f778832-675d-46a3-9824-92147806a49a",
   "metadata": {},
   "outputs": [],
   "source": [
    "# Decision boundary equation\n",
    "def decision_boundary(x):\n",
    "    return (-w[0] * x - b) / w[1]\n",
    "\n",
    "# Positive (+1) margin\n",
    "def margin_positive(x):\n",
    "    return (-w[0] * x - (b + 1)) / w[1]\n",
    "\n",
    "# Negative (-1) margin\n",
    "def margin_negative(x):\n",
    "    return (-w[0] * x - (b - 1)) / w[1]\n",
    "\n",
    "# Generating x values for plotting\n",
    "x_vals = np.linspace(0, 7, 100)\n",
    "\n",
    "# Plot decision boundary and margins\n",
    "plt.figure(figsize=(8, 6))\n",
    "plt.plot(x_vals, decision_boundary(x_vals), 'k-', label=\"Decision Boundary (w⋅x + b = 0)\")\n",
    "plt.plot(x_vals, margin_positive(x_vals), 'r--', label=\"Positive Margin (w⋅x + b = 1)\")\n",
    "plt.plot(x_vals, margin_negative(x_vals), 'b--', label=\"Negative Margin (w⋅x + b = -1)\")\n",
    "\n",
    "# Plot data points\n",
    "plt.scatter(X[y == -1][:, 0], X[y == -1][:, 1], color='blue', label=\"Class -1\")\n",
    "plt.scatter(X[y == 1][:, 0], X[y == 1][:, 1], color='red', label=\"Class 1\")\n",
    "\n",
    "# Labels and title\n",
    "plt.xlabel(\"Feature 1\")\n",
    "plt.ylabel(\"Feature 2\")\n",
    "plt.legend()\n",
    "plt.title(\"SVM Decision Boundary and Margins (Manual)\")\n",
    "\n",
    "# Show plot\n",
    "plt.grid()\n",
    "plt.show()\n",
    "\n",
    "# Print equations of the lines\n",
    "print(f\"Decision Boundary: y = {-w[0] / w[1]} * x + {-b / w[1]}\")\n",
    "print(f\"Positive Margin: y = {-w[0] / w[1]} * x + {-(b + 1) / w[1]}\")\n",
    "print(f\"Negative Margin: y = {-w[0] / w[1]} * x + {-(b - 1) / w[1]}\")\n",
    "\n",
    "# Train an SVM to find the optimal decision boundary\n",
    "svm_model = SVC(kernel='linear')\n",
    "svm_model.fit(X, y)\n",
    "\n",
    "# Get optimal w and b from trained SVM\n",
    "w_opt = svm_model.coef_[0]\n",
    "b_opt = svm_model.intercept_[0]\n",
    "\n",
    "# Print optimal w and b\n",
    "print(\"\\nOptimal values found using SVM:\")\n",
    "print(f\"Optimal w: {w_opt}\")\n",
    "print(f\"Optimal b: {b_opt}\")\n",
    "\n",
    "# Functions for SVM-based decision boundary\n",
    "def optimal_decision_boundary(x):\n",
    "    return (-w_opt[0] * x - b_opt) / w_opt[1]\n",
    "\n",
    "def optimal_margin_positive(x):\n",
    "    return (-w_opt[0] * x - (b_opt + 1)) / w_opt[1]\n",
    "\n",
    "def optimal_margin_negative(x):\n",
    "    return (-w_opt[0] * x - (b_opt - 1)) / w_opt[1]\n",
    "\n",
    "# Plotting the SVM-trained decision boundary\n",
    "plt.figure(figsize=(8, 6))\n",
    "plt.plot(x_vals, optimal_decision_boundary(x_vals), 'k-', label=\"Optimal Decision Boundary\")\n",
    "plt.plot(x_vals, optimal_margin_positive(x_vals), 'r--', label=\"Optimal Positive Margin\")\n",
    "plt.plot(x_vals, optimal_margin_negative(x_vals), 'b--', label=\"Optimal Negative Margin\")\n",
    "\n",
    "# Scatter plot of data points\n",
    "plt.scatter(X[y == -1][:, 0], X[y == -1][:, 1], color='blue', label=\"Class -1\")\n",
    "plt.scatter(X[y == 1][:, 0], X[y == 1][:, 1], color='red', label=\"Class 1\")\n",
    "\n",
    "# Labels and title\n",
    "plt.xlabel(\"Feature 1\")\n",
    "plt.ylabel(\"Feature 2\")\n",
    "plt.legend()\n",
    "plt.title(\"SVM Decision Boundary and Margins (Optimized)\")\n",
    "\n",
    "plt.grid()\n",
    "plt.show()"
   ]
  },
  {
   "cell_type": "code",
   "execution_count": null,
   "id": "41d6ff6c-9016-463e-8313-138de75db89b",
   "metadata": {},
   "outputs": [],
   "source": []
  },
  {
   "cell_type": "code",
   "execution_count": null,
   "id": "bd032695-0af2-44a2-aee6-0ad87fbbcf3f",
   "metadata": {},
   "outputs": [],
   "source": []
  },
  {
   "cell_type": "code",
   "execution_count": null,
   "id": "4901ddaa-15eb-4d49-a030-f440a9131f34",
   "metadata": {},
   "outputs": [],
   "source": []
  }
 ],
 "metadata": {
  "kernelspec": {
   "display_name": "Python 3 (ipykernel)",
   "language": "python",
   "name": "python3"
  },
  "language_info": {
   "codemirror_mode": {
    "name": "ipython",
    "version": 3
   },
   "file_extension": ".py",
   "mimetype": "text/x-python",
   "name": "python",
   "nbconvert_exporter": "python",
   "pygments_lexer": "ipython3",
   "version": "3.11.1"
  }
 },
 "nbformat": 4,
 "nbformat_minor": 5
}
