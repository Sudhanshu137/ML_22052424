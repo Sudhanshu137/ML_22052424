{
 "cells": [
  {
   "cell_type": "code",
   "execution_count": 1,
   "id": "0d6d36ba-8eda-45c4-9240-9397ade2a06d",
   "metadata": {},
   "outputs": [],
   "source": [
    "import numpy as np"
   ]
  },
  {
   "cell_type": "code",
   "execution_count": 2,
   "id": "648d33d4-f5ac-419b-8c8e-63016a8fa61b",
   "metadata": {},
   "outputs": [],
   "source": [
    "weight=[1,2,3,4];\n"
   ]
  },
  {
   "cell_type": "code",
   "execution_count": 3,
   "id": "2abfbe32-a27b-47ad-9128-9bb782a2991e",
   "metadata": {},
   "outputs": [],
   "source": [
    "feature=[12,34,76,43]"
   ]
  },
  {
   "cell_type": "code",
   "execution_count": null,
   "id": "ccc83e24-0436-4a41-91fc-f270cfdec69d",
   "metadata": {},
   "outputs": [],
   "source": [
    "bias=[.5,.4,.3,.2]"
   ]
  }
 ],
 "metadata": {
  "kernelspec": {
   "display_name": "Python 3 (ipykernel)",
   "language": "python",
   "name": "python3"
  },
  "language_info": {
   "codemirror_mode": {
    "name": "ipython",
    "version": 3
   },
   "file_extension": ".py",
   "mimetype": "text/x-python",
   "name": "python",
   "nbconvert_exporter": "python",
   "pygments_lexer": "ipython3",
   "version": "3.11.1"
  }
 },
 "nbformat": 4,
 "nbformat_minor": 5
}
