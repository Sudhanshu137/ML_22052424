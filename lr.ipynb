{
 "cells": [
  {
   "cell_type": "code",
   "execution_count": null,
   "id": "a228d771-9e75-4354-8efd-8bd4a315ae10",
   "metadata": {},
   "outputs": [],
   "source": [
    "data = {\n",
    "    'Time(hr)': [2.7, 1.4, 3.3, 1.3 , 3, 7.6 , 5.9 , 6.9, 8.6 , 7.7],\n",
    "    'Sentance': [2.5 , 2.3, 2.4 , 1.8 , 3 , 2.7 , 2.2 , 1.8 , 3.5 , 3.5],\n",
    "    'Article type': [0,0,0,0,0,1,1,1,1,1]\n",
    "}"
   ]
  }
 ],
 "metadata": {
  "kernelspec": {
   "display_name": "Python 3 (ipykernel)",
   "language": "python",
   "name": "python3"
  },
  "language_info": {
   "codemirror_mode": {
    "name": "ipython",
    "version": 3
   },
   "file_extension": ".py",
   "mimetype": "text/x-python",
   "name": "python",
   "nbconvert_exporter": "python",
   "pygments_lexer": "ipython3",
   "version": "3.11.1"
  }
 },
 "nbformat": 4,
 "nbformat_minor": 5
}
